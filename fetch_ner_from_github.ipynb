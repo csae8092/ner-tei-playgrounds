{
 "cells": [
  {
   "cell_type": "markdown",
   "id": "finite-coordination",
   "metadata": {},
   "source": [
    "# extract NER Training Samples from csae8092/busoni-data-public"
   ]
  },
  {
   "cell_type": "code",
   "execution_count": 1,
   "id": "vocal-appointment",
   "metadata": {},
   "outputs": [],
   "source": [
    "from github import Github\n",
    "import json\n",
    "import os\n",
    "import acdh_tei_pyutils\n",
    "from acdh_tei_pyutils.tei import TeiReader"
   ]
  },
  {
   "cell_type": "code",
   "execution_count": 2,
   "id": "affiliated-shannon",
   "metadata": {},
   "outputs": [],
   "source": [
    "clean_markup = os.path.join(acdh_tei_pyutils.__path__[0], 'files', 'clean_markup.xsl')"
   ]
  },
  {
   "cell_type": "code",
   "execution_count": 3,
   "id": "micro-north",
   "metadata": {},
   "outputs": [],
   "source": [
    "# secret.json = {\"login_or_token\": \"username\", \"password\": \"password\"}"
   ]
  },
  {
   "cell_type": "code",
   "execution_count": 4,
   "id": "weird-future",
   "metadata": {},
   "outputs": [],
   "source": [
    "with open('secret.json', 'r') as f:\n",
    "    login = json.load(f)"
   ]
  },
  {
   "cell_type": "code",
   "execution_count": 5,
   "id": "radio-japanese",
   "metadata": {},
   "outputs": [],
   "source": [
    "g = Github(**login)"
   ]
  },
  {
   "cell_type": "code",
   "execution_count": null,
   "id": "senior-programmer",
   "metadata": {},
   "outputs": [],
   "source": [
    "repo = g.get_repo('csae8092/busoni-data-public')"
   ]
  },
  {
   "cell_type": "code",
   "execution_count": null,
   "id": "human-driver",
   "metadata": {},
   "outputs": [],
   "source": [
    "contents = repo.get_contents(\"text/letters\")"
   ]
  },
  {
   "cell_type": "code",
   "execution_count": null,
   "id": "convertible-calvin",
   "metadata": {},
   "outputs": [],
   "source": [
    "with open(\"sample.jsonl\", \"w\") as a_file:\n",
    "    contents = repo.get_contents(\"text/letters\")\n",
    "    while contents:\n",
    "        file_content = contents.pop(0)\n",
    "        if file_content.type == \"dir\":\n",
    "            contents.extend(repo.get_contents(file_content.path))\n",
    "        else:\n",
    "            dl_url = file_content._rawData.get('download_url')\n",
    "            if not 'description' in dl_url:\n",
    "                print(dl_url)\n",
    "                doc = TeiReader(xml=dl_url, xsl=clean_markup)\n",
    "                parent_node = doc.any_xpath('.//tei:body')[0]\n",
    "                try:\n",
    "                    ne_list = doc.extract_ne_offsets(\n",
    "                        parent_nodes='.//tei:body//tei:p',\n",
    "                        ne_xpath=\".//*[contains(name(), 'Name') or name()='date' or name()='time']\"\n",
    "                    )\n",
    "                except:\n",
    "                    continue\n",
    "                for y in ne_list:\n",
    "                    item = {\n",
    "                        \"text\": y[0],\n",
    "                        \"entities\": y[1]['entities']\n",
    "                    }\n",
    "                    a_file.write(\"\\n\")\n",
    "                    a_file.write(json.dumps(item, ensure_ascii=False))\n",
    "                    "
   ]
  }
 ],
 "metadata": {
  "kernelspec": {
   "display_name": "Python 3",
   "language": "python",
   "name": "python3"
  },
  "language_info": {
   "codemirror_mode": {
    "name": "ipython",
    "version": 3
   },
   "file_extension": ".py",
   "mimetype": "text/x-python",
   "name": "python",
   "nbconvert_exporter": "python",
   "pygments_lexer": "ipython3",
   "version": "3.8.5"
  }
 },
 "nbformat": 4,
 "nbformat_minor": 5
}
