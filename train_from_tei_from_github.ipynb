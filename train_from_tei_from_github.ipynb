{
 "cells": [
  {
   "source": [
    "# extract NER Training Samples from TEI-Files fetched from a GitHub Repo"
   ],
   "cell_type": "markdown",
   "metadata": {}
  },
  {
   "cell_type": "code",
   "execution_count": 1,
   "id": "vocal-appointment",
   "metadata": {},
   "outputs": [],
   "source": [
    "from github import Github\n",
    "import json\n",
    "import os\n",
    "import acdh_tei_pyutils\n",
    "from acdh_tei_pyutils.tei import TeiReader"
   ]
  },
  {
   "cell_type": "code",
   "execution_count": 2,
   "metadata": {},
   "outputs": [],
   "source": [
    "clean_markup = os.path.join(acdh_tei_pyutils.__path__[0], 'files', 'clean_markup.xsl')"
   ]
  },
  {
   "cell_type": "code",
   "execution_count": 3,
   "id": "radio-japanese",
   "metadata": {},
   "outputs": [],
   "source": [
    "g = Github()"
   ]
  },
  {
   "cell_type": "code",
   "execution_count": 4,
   "id": "senior-programmer",
   "metadata": {},
   "outputs": [],
   "source": [
    "repo = g.get_repo('bleierr/NERDPool')"
   ]
  },
  {
   "cell_type": "code",
   "execution_count": 5,
   "id": "human-driver",
   "metadata": {},
   "outputs": [],
   "source": [
    "contents = repo.get_contents(\"RTA_1576\")"
   ]
  },
  {
   "cell_type": "code",
   "execution_count": 6,
   "id": "convertible-calvin",
   "metadata": {},
   "outputs": [
    {
     "output_type": "stream",
     "name": "stdout",
     "text": [
      "https://raw.githubusercontent.com/bleierr/NERDPool/main/RTA_1576/FR-Protokoll-Baden.xml\n",
      "https://raw.githubusercontent.com/bleierr/NERDPool/main/RTA_1576/FR-Protokoll-Stra%C3%9Fburg.xml\n",
      "https://raw.githubusercontent.com/bleierr/NERDPool/main/RTA_1576/FR-Protokoll-%C3%96sterreich-Juli.xml\n",
      "https://raw.githubusercontent.com/bleierr/NERDPool/main/RTA_1576/Geheimer_Rat-Protokoll-Wien-HHStA.xml\n",
      "https://raw.githubusercontent.com/bleierr/NERDPool/main/RTA_1576/HHStA%20Wien_AUR%201576_Oktober%2012_V2.xml\n",
      "https://raw.githubusercontent.com/bleierr/NERDPool/main/RTA_1576/HStA_Dresden_Loc10199_4_fol11_1576-05-21.xml\n",
      "https://raw.githubusercontent.com/bleierr/NERDPool/main/RTA_1576/HStA_Dresden_Loc10199_4_fol13_1576-05-25.xml\n",
      "https://raw.githubusercontent.com/bleierr/NERDPool/main/RTA_1576/HStA_Dresden_Loc10199_4_fol159_1576-06-30.xml\n",
      "https://raw.githubusercontent.com/bleierr/NERDPool/main/RTA_1576/HStA_Dresden_Loc10199_4_fol16_1576-05-23.xml\n",
      "https://raw.githubusercontent.com/bleierr/NERDPool/main/RTA_1576/HStA_Dresden_Loc10199_4_fol174_1576-07-01.xml\n",
      "https://raw.githubusercontent.com/bleierr/NERDPool/main/RTA_1576/HStA_Dresden_Loc10199_4_fol177_1576-07-06.xml\n",
      "https://raw.githubusercontent.com/bleierr/NERDPool/main/RTA_1576/HStA_Dresden_Loc10199_4_fol181_1576-07-06.xml\n",
      "https://raw.githubusercontent.com/bleierr/NERDPool/main/RTA_1576/HStA_Dresden_Loc10199_4_fol1_1576-05-09.xml\n",
      "https://raw.githubusercontent.com/bleierr/NERDPool/main/RTA_1576/HStA_Dresden_Loc10199_4_fol200_1576-07-09.xml\n",
      "https://raw.githubusercontent.com/bleierr/NERDPool/main/RTA_1576/HStA_Dresden_Loc10199_4_fol221_1576-07-11.xml\n",
      "https://raw.githubusercontent.com/bleierr/NERDPool/main/RTA_1576/HStA_Dresden_Loc10199_4_fol265_1576-07-15.xml\n",
      "https://raw.githubusercontent.com/bleierr/NERDPool/main/RTA_1576/HStA_Dresden_Loc10199_4_fol26_1576-05-31.xml\n",
      "https://raw.githubusercontent.com/bleierr/NERDPool/main/RTA_1576/HStA_Dresden_Loc10199_4_fol286_1576-07-17.xml\n",
      "https://raw.githubusercontent.com/bleierr/NERDPool/main/RTA_1576/HStA_Dresden_Loc10199_4_fol300_1576-07-18.xml\n",
      "https://raw.githubusercontent.com/bleierr/NERDPool/main/RTA_1576/HStA_Dresden_Loc10199_4_fol301_1576-07-20.xml\n",
      "https://raw.githubusercontent.com/bleierr/NERDPool/main/RTA_1576/HStA_Dresden_Loc10199_4_fol329_1576-07-21.xml\n",
      "https://raw.githubusercontent.com/bleierr/NERDPool/main/RTA_1576/HStA_Dresden_Loc10199_4_fol330_1576-07-24.xml\n",
      "https://raw.githubusercontent.com/bleierr/NERDPool/main/RTA_1576/HStA_Dresden_Loc10199_4_fol337_1576-07-24.xml\n",
      "https://raw.githubusercontent.com/bleierr/NERDPool/main/RTA_1576/HStA_Dresden_Loc10199_4_fol343_1576-07-28.xml\n",
      "https://raw.githubusercontent.com/bleierr/NERDPool/main/RTA_1576/HStA_Dresden_Loc10199_4_fol349_1576-07-29.xml\n",
      "https://raw.githubusercontent.com/bleierr/NERDPool/main/RTA_1576/HStA_Dresden_Loc10199_4_fol353_1576-07-30.xml\n",
      "https://raw.githubusercontent.com/bleierr/NERDPool/main/RTA_1576/HStA_Dresden_Loc10199_4_fol355_1576-07-31.xml\n",
      "https://raw.githubusercontent.com/bleierr/NERDPool/main/RTA_1576/HStA_Dresden_Loc10199_4_fol35_1576-06-04.xml\n",
      "https://raw.githubusercontent.com/bleierr/NERDPool/main/RTA_1576/HStA_Dresden_Loc10199_4_fol42_1576-06-08.xml\n",
      "https://raw.githubusercontent.com/bleierr/NERDPool/main/RTA_1576/HStA_Dresden_Loc10199_4_fol4_1576-05-12.xml\n",
      "https://raw.githubusercontent.com/bleierr/NERDPool/main/RTA_1576/HStA_Dresden_Loc10199_4_fol65_1576-06-10.xml\n",
      "https://raw.githubusercontent.com/bleierr/NERDPool/main/RTA_1576/HStA_Dresden_Loc10199_4_fol67_1576-06-14.xml\n",
      "https://raw.githubusercontent.com/bleierr/NERDPool/main/RTA_1576/HStA_Dresden_Loc10199_4_fol71_1576-06-16.xml\n",
      "https://raw.githubusercontent.com/bleierr/NERDPool/main/RTA_1576/HStA_Dresden_Loc10199_4_fol75_1576-06-17.xml\n",
      "https://raw.githubusercontent.com/bleierr/NERDPool/main/RTA_1576/HStA_Dresden_Loc10199_4_fol78_1576-06-19.xml\n",
      "https://raw.githubusercontent.com/bleierr/NERDPool/main/RTA_1576/HStA_Dresden_Loc10199_4_fol7_1576-05-15.xml\n",
      "https://raw.githubusercontent.com/bleierr/NERDPool/main/RTA_1576/HStA_Dresden_Loc10199_4_fol83_1576-06-23.xml\n",
      "https://raw.githubusercontent.com/bleierr/NERDPool/main/RTA_1576/HStA_Dresden_Loc10199_4_fol90_1576-06-25.xml\n",
      "https://raw.githubusercontent.com/bleierr/NERDPool/main/RTA_1576/HStA_Dresden_Loc10199_4_fol93_1576-06-27.xml\n",
      "https://raw.githubusercontent.com/bleierr/NERDPool/main/RTA_1576/HStA_Dresden_Loc10199_4_fol9_1576-05-19.xml\n",
      "https://raw.githubusercontent.com/bleierr/NERDPool/main/RTA_1576/HStA_Dresden_Loc10200_1_fol166_1576-08-15.xml\n",
      "https://raw.githubusercontent.com/bleierr/NERDPool/main/RTA_1576/HStA_Dresden_Loc10200_1_fol171_1576-08-16.xml\n",
      "https://raw.githubusercontent.com/bleierr/NERDPool/main/RTA_1576/HStA_Dresden_Loc10200_1_fol172_1576-08-17.xml\n",
      "https://raw.githubusercontent.com/bleierr/NERDPool/main/RTA_1576/HStA_Dresden_Loc10200_1_fol173_1576-08-21.xml\n",
      "https://raw.githubusercontent.com/bleierr/NERDPool/main/RTA_1576/HStA_Dresden_Loc10200_1_fol197_1576-08-26.xml\n",
      "https://raw.githubusercontent.com/bleierr/NERDPool/main/RTA_1576/HStA_Dresden_Loc10200_1_fol1_1576-08-02.xml\n",
      "https://raw.githubusercontent.com/bleierr/NERDPool/main/RTA_1576/HStA_Dresden_Loc10200_1_fol216_1576-08-30.xml\n",
      "https://raw.githubusercontent.com/bleierr/NERDPool/main/RTA_1576/HStA_Dresden_Loc10200_1_fol253_1576-09-04.xml\n",
      "https://raw.githubusercontent.com/bleierr/NERDPool/main/RTA_1576/HStA_Dresden_Loc10200_1_fol258_1576-09-11.xml\n",
      "https://raw.githubusercontent.com/bleierr/NERDPool/main/RTA_1576/HStA_Dresden_Loc10200_1_fol269_1576-09-18.xml\n",
      "https://raw.githubusercontent.com/bleierr/NERDPool/main/RTA_1576/HStA_Dresden_Loc10200_1_fol276_1576-09-20.xml\n",
      "https://raw.githubusercontent.com/bleierr/NERDPool/main/RTA_1576/HStA_Dresden_Loc10200_1_fol315_1576-09-25.xml\n",
      "https://raw.githubusercontent.com/bleierr/NERDPool/main/RTA_1576/HStA_Dresden_Loc10200_1_fol348_1576-09-27.xml\n",
      "https://raw.githubusercontent.com/bleierr/NERDPool/main/RTA_1576/HStA_Dresden_Loc10200_1_fol352_1576-09-30.xml\n",
      "https://raw.githubusercontent.com/bleierr/NERDPool/main/RTA_1576/HStA_Dresden_Loc10200_1_fol354_1576-10-04.xml\n",
      "https://raw.githubusercontent.com/bleierr/NERDPool/main/RTA_1576/HStA_Dresden_Loc10200_1_fol376_1576-10-06.xml\n",
      "https://raw.githubusercontent.com/bleierr/NERDPool/main/RTA_1576/HStA_Dresden_Loc10200_1_fol3_1576-08-04.xml\n",
      "https://raw.githubusercontent.com/bleierr/NERDPool/main/RTA_1576/HStA_Dresden_Loc10200_1_fol434_1576-10-09.xml\n",
      "https://raw.githubusercontent.com/bleierr/NERDPool/main/RTA_1576/HStA_Dresden_Loc10200_1_fol456_1576-10-11.xml\n",
      "https://raw.githubusercontent.com/bleierr/NERDPool/main/RTA_1576/HStA_Dresden_Loc10200_1_fol459_1576-10-12.xml\n",
      "https://raw.githubusercontent.com/bleierr/NERDPool/main/RTA_1576/HStA_Dresden_Loc10200_1_fol461_1576-10-13.xml\n",
      "https://raw.githubusercontent.com/bleierr/NERDPool/main/RTA_1576/HStA_Dresden_Loc10200_1_fol86_1576-08-07.xml\n",
      "https://raw.githubusercontent.com/bleierr/NERDPool/main/RTA_1576/HStA_Dresden_Loc10200_1_fol90_1576-08-08.xml\n",
      "https://raw.githubusercontent.com/bleierr/NERDPool/main/RTA_1576/HStA_Dresden_Loc10200_1_fol92_1576-08-09.xml\n",
      "https://raw.githubusercontent.com/bleierr/NERDPool/main/RTA_1576/HStA_Dresden_Loc10200_1_fol97_1576-08-14.xml\n",
      "https://raw.githubusercontent.com/bleierr/NERDPool/main/RTA_1576/KR-Protokoll-Brandenburg-Teil1.xml\n",
      "https://raw.githubusercontent.com/bleierr/NERDPool/main/RTA_1576/KR-Protokoll-Brandenburg-Teil2.xml\n",
      "https://raw.githubusercontent.com/bleierr/NERDPool/main/RTA_1576/KR-Protokoll-Mainz-Teil%203.xml\n",
      "https://raw.githubusercontent.com/bleierr/NERDPool/main/RTA_1576/KR-Protokoll-Mainz-Teil%204.xml\n",
      "https://raw.githubusercontent.com/bleierr/NERDPool/main/RTA_1576/Religionsverhandlungen-Baden.xml\n",
      "https://raw.githubusercontent.com/bleierr/NERDPool/main/RTA_1576/StR-Protokoll%20N%C3%BCrnberg%20Teil%201.xml\n",
      "https://raw.githubusercontent.com/bleierr/NERDPool/main/RTA_1576/StR-Protokoll%20N%C3%BCrnberg%20Teil%202.xml\n",
      "https://raw.githubusercontent.com/bleierr/NERDPool/main/RTA_1576/StR-Protokoll-K%C3%B6ln.xml\n",
      "https://raw.githubusercontent.com/bleierr/NERDPool/main/RTA_1576/StR-Protokoll-Schweinfurt.xml\n",
      "https://raw.githubusercontent.com/bleierr/NERDPool/main/RTA_1576/Ulm%20StadtA_A%200636_1-99'.xml\n",
      "https://raw.githubusercontent.com/bleierr/NERDPool/main/RTA_1576/Wetterau%20FR-Protokoll.xml\n"
     ]
    }
   ],
   "source": [
    "with open(\"sample.jsonl\", \"w\") as a_file:\n",
    "    for x in contents:\n",
    "        dl_url = x._rawData.get('download_url')\n",
    "        print(dl_url)\n",
    "        doc = TeiReader(xml=dl_url, xsl=clean_markup)\n",
    "        parent_node = doc.any_xpath('.//tei:body')[0]\n",
    "        ne_list = doc.extract_ne_offsets(\n",
    "            parent_nodes='.//tei:body//tei:p',\n",
    "            ne_xpath=\".//*[contains(name(), 'Name') or name()='date' or name()='time']\"\n",
    "        )\n",
    "        for y in ne_list:\n",
    "            item = {\n",
    "                \"text\": y[0],\n",
    "                \"entities\": y[1]['entities']\n",
    "            }\n",
    "            a_file.write(\"\\n\")\n",
    "            a_file.write(json.dumps(item, ensure_ascii=False))"
   ]
  },
  {
   "cell_type": "code",
   "execution_count": 10,
   "id": "polish-savings",
   "metadata": {},
   "outputs": [],
   "source": [
    "import warnings\n",
    "import spacy\n",
    "from spacy.tokens import DocBin"
   ]
  },
  {
   "cell_type": "code",
   "execution_count": 15,
   "id": "focal-penguin",
   "metadata": {},
   "outputs": [
    {
     "output_type": "stream",
     "name": "stdout",
     "text": [
      "fails: 189; train: 8330; eval: 2083\n"
     ]
    }
   ],
   "source": [
    "nlp = spacy.blank('de')\n",
    "db_train = DocBin()\n",
    "db_eval = DocBin()\n",
    "fails = 0\n",
    "train_eval = 0\n",
    "train_sample_count = 0\n",
    "eval_sample_count = 0\n",
    "with open('sample.jsonl') as f:\n",
    "    for line in f:\n",
    "        if train_eval == 5:\n",
    "            train_eval = 0\n",
    "        try:\n",
    "            data = json.loads(line.strip())\n",
    "        except:\n",
    "            continue\n",
    "        text = data['text']\n",
    "        entities = data['entities']\n",
    "        doc = nlp.make_doc(text)\n",
    "        ents = []\n",
    "        train_eval += 1\n",
    "        for start, end, label in entities:\n",
    "            span = doc.char_span(start, end, label=label)\n",
    "            if span is None:\n",
    "                # msg = f\"Skipping entity [{start}, {end}, {label}] in the following text because the character span '{doc.text[start:end]}' does not align with token boundaries:\\n\\n{repr(text)}\\n\"\n",
    "                # warnings.warn(msg)\n",
    "                fails += 1\n",
    "            else:\n",
    "                ents.append(span)\n",
    "        try:\n",
    "            doc.ents = ents\n",
    "            if train_eval != 4:\n",
    "                db_train.add(doc)\n",
    "                train_sample_count += 1\n",
    "            else:\n",
    "                db_eval.add(doc)\n",
    "                eval_sample_count += 1\n",
    "        except ValueError:\n",
    "            continue\n",
    "    db_train.to_disk('train.spacy')\n",
    "    db_eval.to_disk('dev.spacy')\n",
    "print(\n",
    "    f\"fails: {fails}; train: {train_sample_count}; eval: {eval_sample_count}\"\n",
    ")\n",
    "        "
   ]
  },
  {
   "cell_type": "code",
   "execution_count": 16,
   "id": "divided-revision",
   "metadata": {},
   "outputs": [
    {
     "output_type": "stream",
     "name": "stdout",
     "text": [
      "\u001b[38;5;4mℹ Using CPU\u001b[0m\n",
      "\u001b[1m\n",
      "=========================== Initializing pipeline ===========================\u001b[0m\n",
      "[2021-03-17 12:51:04,146] [INFO] Set up nlp object from config\n",
      "[2021-03-17 12:51:04,156] [INFO] Pipeline: ['tok2vec', 'ner']\n",
      "[2021-03-17 12:51:04,160] [INFO] Created vocabulary\n",
      "[2021-03-17 12:51:04,160] [INFO] Finished initializing nlp object\n",
      "[2021-03-17 12:51:16,694] [INFO] Initialized pipeline components: ['tok2vec', 'ner']\n",
      "\u001b[38;5;2m✔ Initialized pipeline\u001b[0m\n",
      "\u001b[1m\n",
      "============================= Training pipeline =============================\u001b[0m\n",
      "\u001b[38;5;4mℹ Pipeline: ['tok2vec', 'ner']\u001b[0m\n",
      "\u001b[38;5;4mℹ Initial learn rate: 0.001\u001b[0m\n",
      "E    #       LOSS TOK2VEC  LOSS NER  ENTS_F  ENTS_P  ENTS_R  SCORE \n",
      "---  ------  ------------  --------  ------  ------  ------  ------\n",
      "  0       0          0.00     75.50    0.00    0.00    0.00    0.00\n",
      "  0     200        348.11   1451.85   54.46   60.81   49.32    0.54\n",
      "  0     400        122.47    735.54   62.56   70.94   55.95    0.63\n",
      "  0     600      34278.71    767.23   68.69   82.81   58.69    0.69\n",
      "  0     800       2756.13    800.79   72.25   73.86   70.71    0.72\n",
      "  0    1000      48938.94   1015.72   75.41   81.98   69.82    0.75\n",
      "  0    1200       6914.22    882.19   76.89   83.59   71.18    0.77\n",
      "  0    1400        290.95    777.21   80.26   83.72   77.08    0.80\n",
      "  0    1600        328.38   1062.42   82.39   88.23   77.27    0.82\n",
      "  1    1800        386.35   1196.31   83.85   86.47   81.37    0.84\n",
      "  1    2000        338.61    915.54   85.47   87.55   83.48    0.85\n",
      "  1    2200        611.15   1301.45   86.15   87.83   84.54    0.86\n",
      "  2    2400        536.28   1302.43   85.41   86.87   83.99    0.85\n",
      "  2    2600       3699.05   1146.18   86.68   85.95   87.43    0.87\n",
      "  3    2800        490.98   1056.53   87.89   89.68   86.18    0.88\n",
      "  3    3000        850.82    797.33   87.54   87.97   87.11    0.88\n",
      "  3    3200        580.44    837.25   86.73   86.84   86.61    0.87\n",
      "  4    3400        790.84    666.83   86.05   88.95   83.33    0.86\n",
      "  4    3600        950.61    684.94   87.03   86.82   87.23    0.87\n",
      "  5    3800        784.32    584.92   87.06   89.12   85.08    0.87\n",
      "  5    4000        576.73    591.55   87.35   89.01   85.75    0.87\n",
      "  6    4200        956.42    480.23   86.66   89.41   84.07    0.87\n",
      "  6    4400        881.24    516.15   87.21   89.18   85.32    0.87\n",
      "\u001b[38;5;2m✔ Saved pipeline to output directory\u001b[0m\n",
      "output/model-last\n"
     ]
    }
   ],
   "source": [
    "! python -m spacy train config.cfg --output ./output --paths.train ./train.spacy --paths.dev ./dev.spacy"
   ]
  },
  {
   "cell_type": "code",
   "execution_count": null,
   "metadata": {},
   "outputs": [],
   "source": []
  }
 ],
 "metadata": {
  "kernelspec": {
   "display_name": "Python 3.8.5 64-bit ('env': venv)",
   "language": "python",
   "name": "python38564bitenvvenv1f0617ab3f204c6794ad134ea07847f7"
  },
  "language_info": {
   "codemirror_mode": {
    "name": "ipython",
    "version": 3
   },
   "file_extension": ".py",
   "mimetype": "text/x-python",
   "name": "python",
   "nbconvert_exporter": "python",
   "pygments_lexer": "ipython3",
   "version": "3.8.5-final"
  }
 },
 "nbformat": 4,
 "nbformat_minor": 5
}