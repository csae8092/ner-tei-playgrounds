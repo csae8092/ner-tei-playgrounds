{
 "cells": [
  {
   "cell_type": "markdown",
   "id": "finite-coordination",
   "metadata": {},
   "source": [
    "# extract NER Training Samples from TEI-Files fetched from a GitHub Repo"
   ]
  },
  {
   "cell_type": "code",
   "execution_count": 1,
   "id": "vocal-appointment",
   "metadata": {},
   "outputs": [],
   "source": [
    "from github import Github\n",
    "import json\n",
    "import os\n",
    "import acdh_tei_pyutils\n",
    "from acdh_tei_pyutils.tei import TeiReader"
   ]
  },
  {
   "cell_type": "code",
   "execution_count": 2,
   "id": "affiliated-shannon",
   "metadata": {},
   "outputs": [],
   "source": [
    "clean_markup = os.path.join(acdh_tei_pyutils.__path__[0], 'files', 'clean_markup.xsl')"
   ]
  },
  {
   "cell_type": "code",
   "execution_count": 3,
   "id": "radio-japanese",
   "metadata": {},
   "outputs": [],
   "source": [
    "g = Github()"
   ]
  },
  {
   "cell_type": "code",
   "execution_count": 4,
   "id": "senior-programmer",
   "metadata": {},
   "outputs": [],
   "source": [
    "repo = g.get_repo('bleierr/NERDPool')"
   ]
  },
  {
   "cell_type": "code",
   "execution_count": 5,
   "id": "human-driver",
   "metadata": {},
   "outputs": [],
   "source": [
    "contents = repo.get_contents(\"RTA_1576\")"
   ]
  },
  {
   "cell_type": "code",
   "execution_count": 6,
   "id": "convertible-calvin",
   "metadata": {},
   "outputs": [
    {
     "name": "stdout",
     "output_type": "stream",
     "text": [
      "https://raw.githubusercontent.com/bleierr/NERDPool/main/RTA_1576/FR-Protokoll-Baden.xml\n",
      "https://raw.githubusercontent.com/bleierr/NERDPool/main/RTA_1576/FR-Protokoll-Stra%C3%9Fburg.xml\n",
      "https://raw.githubusercontent.com/bleierr/NERDPool/main/RTA_1576/FR-Protokoll-%C3%96sterreich-Juli.xml\n",
      "https://raw.githubusercontent.com/bleierr/NERDPool/main/RTA_1576/Geheimer_Rat-Protokoll-Wien-HHStA.xml\n",
      "https://raw.githubusercontent.com/bleierr/NERDPool/main/RTA_1576/HHStA%20Wien_AUR%201576_Oktober%2012_V2.xml\n",
      "https://raw.githubusercontent.com/bleierr/NERDPool/main/RTA_1576/HStA_Dresden_Loc10199_4_fol11_1576-05-21.xml\n",
      "https://raw.githubusercontent.com/bleierr/NERDPool/main/RTA_1576/HStA_Dresden_Loc10199_4_fol13_1576-05-25.xml\n",
      "https://raw.githubusercontent.com/bleierr/NERDPool/main/RTA_1576/HStA_Dresden_Loc10199_4_fol159_1576-06-30.xml\n",
      "https://raw.githubusercontent.com/bleierr/NERDPool/main/RTA_1576/HStA_Dresden_Loc10199_4_fol16_1576-05-23.xml\n",
      "https://raw.githubusercontent.com/bleierr/NERDPool/main/RTA_1576/HStA_Dresden_Loc10199_4_fol174_1576-07-01.xml\n",
      "https://raw.githubusercontent.com/bleierr/NERDPool/main/RTA_1576/HStA_Dresden_Loc10199_4_fol177_1576-07-06.xml\n",
      "https://raw.githubusercontent.com/bleierr/NERDPool/main/RTA_1576/HStA_Dresden_Loc10199_4_fol181_1576-07-06.xml\n",
      "https://raw.githubusercontent.com/bleierr/NERDPool/main/RTA_1576/HStA_Dresden_Loc10199_4_fol1_1576-05-09.xml\n",
      "https://raw.githubusercontent.com/bleierr/NERDPool/main/RTA_1576/HStA_Dresden_Loc10199_4_fol200_1576-07-09.xml\n",
      "https://raw.githubusercontent.com/bleierr/NERDPool/main/RTA_1576/HStA_Dresden_Loc10199_4_fol221_1576-07-11.xml\n",
      "https://raw.githubusercontent.com/bleierr/NERDPool/main/RTA_1576/HStA_Dresden_Loc10199_4_fol265_1576-07-15.xml\n",
      "https://raw.githubusercontent.com/bleierr/NERDPool/main/RTA_1576/HStA_Dresden_Loc10199_4_fol26_1576-05-31.xml\n",
      "https://raw.githubusercontent.com/bleierr/NERDPool/main/RTA_1576/HStA_Dresden_Loc10199_4_fol286_1576-07-17.xml\n",
      "https://raw.githubusercontent.com/bleierr/NERDPool/main/RTA_1576/HStA_Dresden_Loc10199_4_fol300_1576-07-18.xml\n",
      "https://raw.githubusercontent.com/bleierr/NERDPool/main/RTA_1576/HStA_Dresden_Loc10199_4_fol301_1576-07-20.xml\n",
      "https://raw.githubusercontent.com/bleierr/NERDPool/main/RTA_1576/HStA_Dresden_Loc10199_4_fol329_1576-07-21.xml\n",
      "https://raw.githubusercontent.com/bleierr/NERDPool/main/RTA_1576/HStA_Dresden_Loc10199_4_fol330_1576-07-24.xml\n",
      "https://raw.githubusercontent.com/bleierr/NERDPool/main/RTA_1576/HStA_Dresden_Loc10199_4_fol337_1576-07-24.xml\n",
      "https://raw.githubusercontent.com/bleierr/NERDPool/main/RTA_1576/HStA_Dresden_Loc10199_4_fol343_1576-07-28.xml\n",
      "https://raw.githubusercontent.com/bleierr/NERDPool/main/RTA_1576/HStA_Dresden_Loc10199_4_fol349_1576-07-29.xml\n",
      "https://raw.githubusercontent.com/bleierr/NERDPool/main/RTA_1576/HStA_Dresden_Loc10199_4_fol353_1576-07-30.xml\n",
      "https://raw.githubusercontent.com/bleierr/NERDPool/main/RTA_1576/HStA_Dresden_Loc10199_4_fol355_1576-07-31.xml\n",
      "https://raw.githubusercontent.com/bleierr/NERDPool/main/RTA_1576/HStA_Dresden_Loc10199_4_fol35_1576-06-04.xml\n",
      "https://raw.githubusercontent.com/bleierr/NERDPool/main/RTA_1576/HStA_Dresden_Loc10199_4_fol42_1576-06-08.xml\n",
      "https://raw.githubusercontent.com/bleierr/NERDPool/main/RTA_1576/HStA_Dresden_Loc10199_4_fol4_1576-05-12.xml\n",
      "https://raw.githubusercontent.com/bleierr/NERDPool/main/RTA_1576/HStA_Dresden_Loc10199_4_fol65_1576-06-10.xml\n",
      "https://raw.githubusercontent.com/bleierr/NERDPool/main/RTA_1576/HStA_Dresden_Loc10199_4_fol67_1576-06-14.xml\n",
      "https://raw.githubusercontent.com/bleierr/NERDPool/main/RTA_1576/HStA_Dresden_Loc10199_4_fol71_1576-06-16.xml\n",
      "https://raw.githubusercontent.com/bleierr/NERDPool/main/RTA_1576/HStA_Dresden_Loc10199_4_fol75_1576-06-17.xml\n",
      "https://raw.githubusercontent.com/bleierr/NERDPool/main/RTA_1576/HStA_Dresden_Loc10199_4_fol78_1576-06-19.xml\n",
      "https://raw.githubusercontent.com/bleierr/NERDPool/main/RTA_1576/HStA_Dresden_Loc10199_4_fol7_1576-05-15.xml\n",
      "https://raw.githubusercontent.com/bleierr/NERDPool/main/RTA_1576/HStA_Dresden_Loc10199_4_fol83_1576-06-23.xml\n",
      "https://raw.githubusercontent.com/bleierr/NERDPool/main/RTA_1576/HStA_Dresden_Loc10199_4_fol90_1576-06-25.xml\n",
      "https://raw.githubusercontent.com/bleierr/NERDPool/main/RTA_1576/HStA_Dresden_Loc10199_4_fol93_1576-06-27.xml\n",
      "https://raw.githubusercontent.com/bleierr/NERDPool/main/RTA_1576/HStA_Dresden_Loc10199_4_fol9_1576-05-19.xml\n",
      "https://raw.githubusercontent.com/bleierr/NERDPool/main/RTA_1576/HStA_Dresden_Loc10200_1_fol166_1576-08-15.xml\n",
      "https://raw.githubusercontent.com/bleierr/NERDPool/main/RTA_1576/HStA_Dresden_Loc10200_1_fol171_1576-08-16.xml\n",
      "https://raw.githubusercontent.com/bleierr/NERDPool/main/RTA_1576/HStA_Dresden_Loc10200_1_fol172_1576-08-17.xml\n",
      "https://raw.githubusercontent.com/bleierr/NERDPool/main/RTA_1576/HStA_Dresden_Loc10200_1_fol173_1576-08-21.xml\n",
      "https://raw.githubusercontent.com/bleierr/NERDPool/main/RTA_1576/HStA_Dresden_Loc10200_1_fol197_1576-08-26.xml\n",
      "https://raw.githubusercontent.com/bleierr/NERDPool/main/RTA_1576/HStA_Dresden_Loc10200_1_fol1_1576-08-02.xml\n",
      "https://raw.githubusercontent.com/bleierr/NERDPool/main/RTA_1576/HStA_Dresden_Loc10200_1_fol216_1576-08-30.xml\n",
      "https://raw.githubusercontent.com/bleierr/NERDPool/main/RTA_1576/HStA_Dresden_Loc10200_1_fol253_1576-09-04.xml\n",
      "https://raw.githubusercontent.com/bleierr/NERDPool/main/RTA_1576/HStA_Dresden_Loc10200_1_fol258_1576-09-11.xml\n",
      "https://raw.githubusercontent.com/bleierr/NERDPool/main/RTA_1576/HStA_Dresden_Loc10200_1_fol269_1576-09-18.xml\n",
      "https://raw.githubusercontent.com/bleierr/NERDPool/main/RTA_1576/HStA_Dresden_Loc10200_1_fol276_1576-09-20.xml\n",
      "https://raw.githubusercontent.com/bleierr/NERDPool/main/RTA_1576/HStA_Dresden_Loc10200_1_fol315_1576-09-25.xml\n",
      "https://raw.githubusercontent.com/bleierr/NERDPool/main/RTA_1576/HStA_Dresden_Loc10200_1_fol348_1576-09-27.xml\n",
      "https://raw.githubusercontent.com/bleierr/NERDPool/main/RTA_1576/HStA_Dresden_Loc10200_1_fol352_1576-09-30.xml\n",
      "https://raw.githubusercontent.com/bleierr/NERDPool/main/RTA_1576/HStA_Dresden_Loc10200_1_fol354_1576-10-04.xml\n",
      "https://raw.githubusercontent.com/bleierr/NERDPool/main/RTA_1576/HStA_Dresden_Loc10200_1_fol376_1576-10-06.xml\n",
      "https://raw.githubusercontent.com/bleierr/NERDPool/main/RTA_1576/HStA_Dresden_Loc10200_1_fol3_1576-08-04.xml\n",
      "https://raw.githubusercontent.com/bleierr/NERDPool/main/RTA_1576/HStA_Dresden_Loc10200_1_fol434_1576-10-09.xml\n",
      "https://raw.githubusercontent.com/bleierr/NERDPool/main/RTA_1576/HStA_Dresden_Loc10200_1_fol456_1576-10-11.xml\n",
      "https://raw.githubusercontent.com/bleierr/NERDPool/main/RTA_1576/HStA_Dresden_Loc10200_1_fol459_1576-10-12.xml\n",
      "https://raw.githubusercontent.com/bleierr/NERDPool/main/RTA_1576/HStA_Dresden_Loc10200_1_fol461_1576-10-13.xml\n",
      "https://raw.githubusercontent.com/bleierr/NERDPool/main/RTA_1576/HStA_Dresden_Loc10200_1_fol86_1576-08-07.xml\n",
      "https://raw.githubusercontent.com/bleierr/NERDPool/main/RTA_1576/HStA_Dresden_Loc10200_1_fol90_1576-08-08.xml\n",
      "https://raw.githubusercontent.com/bleierr/NERDPool/main/RTA_1576/HStA_Dresden_Loc10200_1_fol92_1576-08-09.xml\n",
      "https://raw.githubusercontent.com/bleierr/NERDPool/main/RTA_1576/HStA_Dresden_Loc10200_1_fol97_1576-08-14.xml\n",
      "https://raw.githubusercontent.com/bleierr/NERDPool/main/RTA_1576/KR-Protokoll-Brandenburg-Teil1.xml\n",
      "https://raw.githubusercontent.com/bleierr/NERDPool/main/RTA_1576/KR-Protokoll-Brandenburg-Teil2.xml\n",
      "https://raw.githubusercontent.com/bleierr/NERDPool/main/RTA_1576/KR-Protokoll-Mainz-Teil%203.xml\n",
      "https://raw.githubusercontent.com/bleierr/NERDPool/main/RTA_1576/KR-Protokoll-Mainz-Teil%204.xml\n",
      "https://raw.githubusercontent.com/bleierr/NERDPool/main/RTA_1576/Religionsverhandlungen-Baden.xml\n",
      "https://raw.githubusercontent.com/bleierr/NERDPool/main/RTA_1576/StR-Protokoll%20N%C3%BCrnberg%20Teil%201.xml\n",
      "https://raw.githubusercontent.com/bleierr/NERDPool/main/RTA_1576/StR-Protokoll%20N%C3%BCrnberg%20Teil%202.xml\n",
      "https://raw.githubusercontent.com/bleierr/NERDPool/main/RTA_1576/StR-Protokoll-K%C3%B6ln.xml\n",
      "https://raw.githubusercontent.com/bleierr/NERDPool/main/RTA_1576/StR-Protokoll-Schweinfurt.xml\n",
      "https://raw.githubusercontent.com/bleierr/NERDPool/main/RTA_1576/Ulm%20StadtA_A%200636_1-99'.xml\n",
      "https://raw.githubusercontent.com/bleierr/NERDPool/main/RTA_1576/Wetterau%20FR-Protokoll.xml\n"
     ]
    }
   ],
   "source": [
    "with open(\"sample.jsonl\", \"w\") as a_file:\n",
    "    for x in contents:\n",
    "        dl_url = x._rawData.get('download_url')\n",
    "        print(dl_url)\n",
    "        doc = TeiReader(xml=dl_url, xsl=clean_markup)\n",
    "        parent_node = doc.any_xpath('.//tei:body')[0]\n",
    "        ne_list = doc.extract_ne_offsets(\n",
    "            parent_nodes='.//tei:body//tei:p',\n",
    "            ne_xpath=\".//*[contains(name(), 'Name') or name()='date' or name()='time']\"\n",
    "        )\n",
    "        for y in ne_list:\n",
    "            item = {\n",
    "                \"text\": y[0],\n",
    "                \"entities\": y[1]['entities']\n",
    "            }\n",
    "            a_file.write(\"\\n\")\n",
    "            a_file.write(json.dumps(item, ensure_ascii=False))"
   ]
  },
  {
   "cell_type": "code",
   "execution_count": 7,
   "id": "polish-savings",
   "metadata": {},
   "outputs": [],
   "source": [
    "import warnings\n",
    "import spacy\n",
    "from spacy.tokens import DocBin"
   ]
  },
  {
   "cell_type": "code",
   "execution_count": 8,
   "id": "focal-penguin",
   "metadata": {},
   "outputs": [
    {
     "name": "stdout",
     "output_type": "stream",
     "text": [
      "fails: 192; train: 8329; eval: 2083\n"
     ]
    }
   ],
   "source": [
    "nlp = spacy.blank('de')\n",
    "db_train = DocBin()\n",
    "db_eval = DocBin()\n",
    "fails = 0\n",
    "train_eval = 0\n",
    "train_sample_count = 0\n",
    "eval_sample_count = 0\n",
    "with open('sample.jsonl') as f:\n",
    "    for line in f:\n",
    "        if train_eval == 5:\n",
    "            train_eval = 0\n",
    "        try:\n",
    "            data = json.loads(line.strip())\n",
    "        except:\n",
    "            continue\n",
    "        text = data['text']\n",
    "        entities = data['entities']\n",
    "        doc = nlp.make_doc(text)\n",
    "        ents = []\n",
    "        train_eval += 1\n",
    "        for start, end, label in entities:\n",
    "            span = doc.char_span(start, end, label=label)\n",
    "            if span is None:\n",
    "                # msg = f\"Skipping entity [{start}, {end}, {label}] in the following text because the character span '{doc.text[start:end]}' does not align with token boundaries:\\n\\n{repr(text)}\\n\"\n",
    "                # warnings.warn(msg)\n",
    "                fails += 1\n",
    "            else:\n",
    "                ents.append(span)\n",
    "        try:\n",
    "            doc.ents = ents\n",
    "            if train_eval != 4:\n",
    "                db_train.add(doc)\n",
    "                train_sample_count += 1\n",
    "            else:\n",
    "                db_eval.add(doc)\n",
    "                eval_sample_count += 1\n",
    "        except ValueError:\n",
    "            continue\n",
    "    db_train.to_disk('train.spacy')\n",
    "    db_eval.to_disk('dev.spacy')\n",
    "print(\n",
    "    f\"fails: {fails}; train: {train_sample_count}; eval: {eval_sample_count}\"\n",
    ")\n",
    "        "
   ]
  },
  {
   "cell_type": "code",
   "execution_count": null,
   "id": "divided-revision",
   "metadata": {},
   "outputs": [
    {
     "name": "stdout",
     "output_type": "stream",
     "text": [
      "\u001b[38;5;2m✔ Created output directory: output\u001b[0m\n",
      "\u001b[38;5;4mℹ Using CPU\u001b[0m\n",
      "\u001b[1m\n",
      "=========================== Initializing pipeline ===========================\u001b[0m\n",
      "[2021-03-17 13:47:08,872] [INFO] Set up nlp object from config\n",
      "[2021-03-17 13:47:08,896] [INFO] Pipeline: ['tok2vec', 'ner']\n",
      "[2021-03-17 13:47:08,913] [INFO] Created vocabulary\n",
      "[2021-03-17 13:47:08,913] [INFO] Finished initializing nlp object\n",
      "[2021-03-17 13:47:18,934] [INFO] Initialized pipeline components: ['tok2vec', 'ner']\n",
      "\u001b[38;5;2m✔ Initialized pipeline\u001b[0m\n",
      "\u001b[1m\n",
      "============================= Training pipeline =============================\u001b[0m\n",
      "\u001b[38;5;4mℹ Pipeline: ['tok2vec', 'ner']\u001b[0m\n",
      "\u001b[38;5;4mℹ Initial learn rate: 0.001\u001b[0m\n",
      "E    #       LOSS TOK2VEC  LOSS NER  ENTS_F  ENTS_P  ENTS_R  SCORE \n",
      "---  ------  ------------  --------  ------  ------  ------  ------\n",
      "  0       0          0.00     43.56    0.00    0.00    0.00    0.00\n",
      "  0     200         64.10   1435.65   38.39   87.85   24.56    0.38\n",
      "  0     400        322.28    744.01   61.64   73.74   52.95    0.62\n",
      "  0     600       2881.85    637.64   68.32   66.32   70.44    0.68\n",
      "  0     800       9996.87   1009.13   72.67   70.37   75.13    0.73\n",
      "  0    1000        841.53    709.87   74.88   74.22   75.56    0.75\n",
      "  0    1200        216.01    768.90   76.24   89.17   66.58    0.76\n",
      "  0    1400        242.96    874.92   80.21   80.82   79.62    0.80\n",
      "  0    1600        288.49   1016.57   82.90   84.45   81.41    0.83\n",
      "  1    1800        318.35   1025.71   82.54   84.80   80.40    0.83\n",
      "  1    2000      15908.12   1147.97   85.36   88.51   82.43    0.85\n",
      "  1    2200        389.86   1061.44   85.39   91.40   80.12    0.85\n",
      "  2    2400        462.10   1333.11   86.21   89.53   83.13    0.86\n",
      "  2    2600        619.33   1029.12   84.49   89.80   79.77    0.84\n",
      "  2    2800        500.62   1102.45   87.24   89.89   84.73    0.87\n"
     ]
    }
   ],
   "source": [
    "! python -m spacy train config.cfg --output ./output --paths.train ./train.spacy --paths.dev ./dev.spacy"
   ]
  },
  {
   "cell_type": "code",
   "execution_count": null,
   "id": "attractive-vaccine",
   "metadata": {},
   "outputs": [],
   "source": []
  }
 ],
 "metadata": {
  "kernelspec": {
   "display_name": "Python 3.8.5 64-bit ('env': venv)",
   "language": "python",
   "name": "python38564bitenvvenv1f0617ab3f204c6794ad134ea07847f7"
  },
  "language_info": {
   "codemirror_mode": {
    "name": "ipython",
    "version": 3
   },
   "file_extension": ".py",
   "mimetype": "text/x-python",
   "name": "python",
   "nbconvert_exporter": "python",
   "pygments_lexer": "ipython3",
   "version": "3.8.5"
  }
 },
 "nbformat": 4,
 "nbformat_minor": 5
}
