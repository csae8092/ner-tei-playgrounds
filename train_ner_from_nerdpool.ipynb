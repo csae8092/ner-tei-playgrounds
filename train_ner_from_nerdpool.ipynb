{
 "cells": [
  {
   "cell_type": "markdown",
   "id": "finite-coordination",
   "metadata": {},
   "source": [
    "# load samples from nerdpool-api and train NER"
   ]
  },
  {
   "cell_type": "code",
   "execution_count": 1,
   "id": "vocal-appointment",
   "metadata": {},
   "outputs": [],
   "source": [
    "import json\n",
    "from nerdpool_client import NerdPoolClient"
   ]
  },
  {
   "cell_type": "code",
   "execution_count": 2,
   "id": "affiliated-shannon",
   "metadata": {},
   "outputs": [],
   "source": [
    "client = NerdPoolClient()"
   ]
  },
  {
   "cell_type": "code",
   "execution_count": 3,
   "id": "radio-japanese",
   "metadata": {
    "scrolled": true
   },
   "outputs": [
    {
     "name": "stdout",
     "output_type": "stream",
     "text": [
      "https://nerdpool-api.acdh-dev.oeaw.ac.at/api/ner-sample/?format=json&ner_ent_type__contains=&ner_source__title=MRP\n",
      "https://nerdpool-api.acdh-dev.oeaw.ac.at/api/ner-sample/?format=json&limit=100&ner_ent_type__contains=&ner_source__title=MRP&offset=100\n",
      "https://nerdpool-api.acdh-dev.oeaw.ac.at/api/ner-sample/?format=json&limit=100&ner_ent_type__contains=&ner_source__title=MRP&offset=200\n",
      "https://nerdpool-api.acdh-dev.oeaw.ac.at/api/ner-sample/?format=json&limit=100&ner_ent_type__contains=&ner_source__title=MRP&offset=300\n",
      "https://nerdpool-api.acdh-dev.oeaw.ac.at/api/ner-sample/?format=json&limit=100&ner_ent_type__contains=&ner_source__title=MRP&offset=400\n",
      "https://nerdpool-api.acdh-dev.oeaw.ac.at/api/ner-sample/?format=json&limit=100&ner_ent_type__contains=&ner_source__title=MRP&offset=500\n",
      "https://nerdpool-api.acdh-dev.oeaw.ac.at/api/ner-sample/?format=json&limit=100&ner_ent_type__contains=&ner_source__title=MRP&offset=600\n",
      "https://nerdpool-api.acdh-dev.oeaw.ac.at/api/ner-sample/?format=json&limit=100&ner_ent_type__contains=&ner_source__title=MRP&offset=700\n",
      "https://nerdpool-api.acdh-dev.oeaw.ac.at/api/ner-sample/?format=json&limit=100&ner_ent_type__contains=&ner_source__title=MRP&offset=800\n",
      "https://nerdpool-api.acdh-dev.oeaw.ac.at/api/ner-sample/?format=json&limit=100&ner_ent_type__contains=&ner_source__title=MRP&offset=900\n",
      "https://nerdpool-api.acdh-dev.oeaw.ac.at/api/ner-sample/?format=json&limit=100&ner_ent_type__contains=&ner_source__title=MRP&offset=1000\n",
      "https://nerdpool-api.acdh-dev.oeaw.ac.at/api/ner-sample/?format=json&limit=100&ner_ent_type__contains=&ner_source__title=MRP&offset=1100\n",
      "https://nerdpool-api.acdh-dev.oeaw.ac.at/api/ner-sample/?format=json&limit=100&ner_ent_type__contains=&ner_source__title=MRP&offset=1200\n",
      "https://nerdpool-api.acdh-dev.oeaw.ac.at/api/ner-sample/?format=json&limit=100&ner_ent_type__contains=&ner_source__title=MRP&offset=1300\n",
      "https://nerdpool-api.acdh-dev.oeaw.ac.at/api/ner-sample/?format=json&limit=100&ner_ent_type__contains=&ner_source__title=MRP&offset=1400\n",
      "https://nerdpool-api.acdh-dev.oeaw.ac.at/api/ner-sample/?format=json&limit=100&ner_ent_type__contains=&ner_source__title=MRP&offset=1500\n",
      "https://nerdpool-api.acdh-dev.oeaw.ac.at/api/ner-sample/?format=json&limit=100&ner_ent_type__contains=&ner_source__title=MRP&offset=1600\n",
      "https://nerdpool-api.acdh-dev.oeaw.ac.at/api/ner-sample/?format=json&limit=100&ner_ent_type__contains=&ner_source__title=MRP&offset=1700\n",
      "https://nerdpool-api.acdh-dev.oeaw.ac.at/api/ner-sample/?format=json&limit=100&ner_ent_type__contains=&ner_source__title=MRP&offset=1800\n",
      "https://nerdpool-api.acdh-dev.oeaw.ac.at/api/ner-sample/?format=json&limit=100&ner_ent_type__contains=&ner_source__title=MRP&offset=1900\n",
      "https://nerdpool-api.acdh-dev.oeaw.ac.at/api/ner-sample/?format=json&limit=100&ner_ent_type__contains=&ner_source__title=MRP&offset=2000\n",
      "https://nerdpool-api.acdh-dev.oeaw.ac.at/api/ner-sample/?format=json&limit=100&ner_ent_type__contains=&ner_source__title=MRP&offset=2100\n",
      "https://nerdpool-api.acdh-dev.oeaw.ac.at/api/ner-sample/?format=json&limit=100&ner_ent_type__contains=&ner_source__title=MRP&offset=2200\n",
      "https://nerdpool-api.acdh-dev.oeaw.ac.at/api/ner-sample/?format=json&limit=100&ner_ent_type__contains=&ner_source__title=MRP&offset=2300\n",
      "https://nerdpool-api.acdh-dev.oeaw.ac.at/api/ner-sample/?format=json&limit=100&ner_ent_type__contains=&ner_source__title=MRP&offset=2400\n",
      "https://nerdpool-api.acdh-dev.oeaw.ac.at/api/ner-sample/?format=json&limit=100&ner_ent_type__contains=&ner_source__title=MRP&offset=2500\n",
      "https://nerdpool-api.acdh-dev.oeaw.ac.at/api/ner-sample/?format=json&limit=100&ner_ent_type__contains=&ner_source__title=MRP&offset=2600\n",
      "https://nerdpool-api.acdh-dev.oeaw.ac.at/api/ner-sample/?format=json&limit=100&ner_ent_type__contains=&ner_source__title=MRP&offset=2700\n",
      "https://nerdpool-api.acdh-dev.oeaw.ac.at/api/ner-sample/?format=json&limit=100&ner_ent_type__contains=&ner_source__title=MRP&offset=2800\n",
      "https://nerdpool-api.acdh-dev.oeaw.ac.at/api/ner-sample/?format=json&limit=100&ner_ent_type__contains=&ner_source__title=MRP&offset=2900\n",
      "https://nerdpool-api.acdh-dev.oeaw.ac.at/api/ner-sample/?format=json&limit=100&ner_ent_type__contains=&ner_source__title=MRP&offset=3000\n",
      "https://nerdpool-api.acdh-dev.oeaw.ac.at/api/ner-sample/?format=json&limit=100&ner_ent_type__contains=&ner_source__title=MRP&offset=3100\n",
      "https://nerdpool-api.acdh-dev.oeaw.ac.at/api/ner-sample/?format=json&limit=100&ner_ent_type__contains=&ner_source__title=MRP&offset=3200\n",
      "https://nerdpool-api.acdh-dev.oeaw.ac.at/api/ner-sample/?format=json&limit=100&ner_ent_type__contains=&ner_source__title=MRP&offset=3300\n",
      "https://nerdpool-api.acdh-dev.oeaw.ac.at/api/ner-sample/?format=json&limit=100&ner_ent_type__contains=&ner_source__title=MRP&offset=3400\n",
      "https://nerdpool-api.acdh-dev.oeaw.ac.at/api/ner-sample/?format=json&limit=100&ner_ent_type__contains=&ner_source__title=MRP&offset=3500\n",
      "https://nerdpool-api.acdh-dev.oeaw.ac.at/api/ner-sample/?format=json&limit=100&ner_ent_type__contains=&ner_source__title=MRP&offset=3600\n",
      "https://nerdpool-api.acdh-dev.oeaw.ac.at/api/ner-sample/?format=json&limit=100&ner_ent_type__contains=&ner_source__title=MRP&offset=3700\n",
      "https://nerdpool-api.acdh-dev.oeaw.ac.at/api/ner-sample/?format=json&limit=100&ner_ent_type__contains=&ner_source__title=MRP&offset=3800\n",
      "https://nerdpool-api.acdh-dev.oeaw.ac.at/api/ner-sample/?format=json&limit=100&ner_ent_type__contains=&ner_source__title=MRP&offset=3900\n",
      "https://nerdpool-api.acdh-dev.oeaw.ac.at/api/ner-sample/?format=json&limit=100&ner_ent_type__contains=&ner_source__title=MRP&offset=4000\n",
      "https://nerdpool-api.acdh-dev.oeaw.ac.at/api/ner-sample/?format=json&limit=100&ner_ent_type__contains=&ner_source__title=MRP&offset=4100\n",
      "https://nerdpool-api.acdh-dev.oeaw.ac.at/api/ner-sample/?format=json&limit=100&ner_ent_type__contains=&ner_source__title=MRP&offset=4200\n",
      "https://nerdpool-api.acdh-dev.oeaw.ac.at/api/ner-sample/?format=json&limit=100&ner_ent_type__contains=&ner_source__title=MRP&offset=4300\n",
      "https://nerdpool-api.acdh-dev.oeaw.ac.at/api/ner-sample/?format=json&limit=100&ner_ent_type__contains=&ner_source__title=MRP&offset=4400\n",
      "https://nerdpool-api.acdh-dev.oeaw.ac.at/api/ner-sample/?format=json&limit=100&ner_ent_type__contains=&ner_source__title=MRP&offset=4500\n",
      "https://nerdpool-api.acdh-dev.oeaw.ac.at/api/ner-sample/?format=json&limit=100&ner_ent_type__contains=&ner_source__title=MRP&offset=4600\n",
      "https://nerdpool-api.acdh-dev.oeaw.ac.at/api/ner-sample/?format=json&limit=100&ner_ent_type__contains=&ner_source__title=MRP&offset=4700\n",
      "https://nerdpool-api.acdh-dev.oeaw.ac.at/api/ner-sample/?format=json&limit=100&ner_ent_type__contains=&ner_source__title=MRP&offset=4800\n",
      "https://nerdpool-api.acdh-dev.oeaw.ac.at/api/ner-sample/?format=json&limit=100&ner_ent_type__contains=&ner_source__title=MRP&offset=4900\n",
      "https://nerdpool-api.acdh-dev.oeaw.ac.at/api/ner-sample/?format=json&limit=100&ner_ent_type__contains=&ner_source__title=MRP&offset=5000\n",
      "https://nerdpool-api.acdh-dev.oeaw.ac.at/api/ner-sample/?format=json&limit=100&ner_ent_type__contains=&ner_source__title=MRP&offset=5100\n",
      "https://nerdpool-api.acdh-dev.oeaw.ac.at/api/ner-sample/?format=json&limit=100&ner_ent_type__contains=&ner_source__title=MRP&offset=5200\n",
      "https://nerdpool-api.acdh-dev.oeaw.ac.at/api/ner-sample/?format=json&limit=100&ner_ent_type__contains=&ner_source__title=MRP&offset=5300\n",
      "https://nerdpool-api.acdh-dev.oeaw.ac.at/api/ner-sample/?format=json&limit=100&ner_ent_type__contains=&ner_source__title=MRP&offset=5400\n",
      "https://nerdpool-api.acdh-dev.oeaw.ac.at/api/ner-sample/?format=json&limit=100&ner_ent_type__contains=&ner_source__title=MRP&offset=5500\n",
      "https://nerdpool-api.acdh-dev.oeaw.ac.at/api/ner-sample/?format=json&limit=100&ner_ent_type__contains=&ner_source__title=MRP&offset=5600\n",
      "https://nerdpool-api.acdh-dev.oeaw.ac.at/api/ner-sample/?format=json&limit=100&ner_ent_type__contains=&ner_source__title=MRP&offset=5700\n",
      "https://nerdpool-api.acdh-dev.oeaw.ac.at/api/ner-sample/?format=json&limit=100&ner_ent_type__contains=&ner_source__title=MRP&offset=5800\n",
      "https://nerdpool-api.acdh-dev.oeaw.ac.at/api/ner-sample/?format=json&limit=100&ner_ent_type__contains=&ner_source__title=MRP&offset=5900\n",
      "https://nerdpool-api.acdh-dev.oeaw.ac.at/api/ner-sample/?format=json&limit=100&ner_ent_type__contains=&ner_source__title=MRP&offset=6000\n",
      "https://nerdpool-api.acdh-dev.oeaw.ac.at/api/ner-sample/?format=json&limit=100&ner_ent_type__contains=&ner_source__title=MRP&offset=6100\n"
     ]
    },
    {
     "name": "stdout",
     "output_type": "stream",
     "text": [
      "https://nerdpool-api.acdh-dev.oeaw.ac.at/api/ner-sample/?format=json&limit=100&ner_ent_type__contains=&ner_source__title=MRP&offset=6200\n",
      "https://nerdpool-api.acdh-dev.oeaw.ac.at/api/ner-sample/?format=json&limit=100&ner_ent_type__contains=&ner_source__title=MRP&offset=6300\n",
      "https://nerdpool-api.acdh-dev.oeaw.ac.at/api/ner-sample/?format=json&limit=100&ner_ent_type__contains=&ner_source__title=MRP&offset=6400\n",
      "https://nerdpool-api.acdh-dev.oeaw.ac.at/api/ner-sample/?format=json&limit=100&ner_ent_type__contains=&ner_source__title=MRP&offset=6500\n",
      "https://nerdpool-api.acdh-dev.oeaw.ac.at/api/ner-sample/?format=json&limit=100&ner_ent_type__contains=&ner_source__title=MRP&offset=6600\n",
      "https://nerdpool-api.acdh-dev.oeaw.ac.at/api/ner-sample/?format=json&limit=100&ner_ent_type__contains=&ner_source__title=MRP&offset=6700\n",
      "https://nerdpool-api.acdh-dev.oeaw.ac.at/api/ner-sample/?format=json&limit=100&ner_ent_type__contains=&ner_source__title=MRP&offset=6800\n",
      "https://nerdpool-api.acdh-dev.oeaw.ac.at/api/ner-sample/?format=json&limit=100&ner_ent_type__contains=&ner_source__title=MRP&offset=6900\n",
      "https://nerdpool-api.acdh-dev.oeaw.ac.at/api/ner-sample/?format=json&limit=100&ner_ent_type__contains=&ner_source__title=MRP&offset=7000\n",
      "https://nerdpool-api.acdh-dev.oeaw.ac.at/api/ner-sample/?format=json&limit=100&ner_ent_type__contains=&ner_source__title=MRP&offset=7100\n",
      "https://nerdpool-api.acdh-dev.oeaw.ac.at/api/ner-sample/?format=json&limit=100&ner_ent_type__contains=&ner_source__title=MRP&offset=7200\n",
      "https://nerdpool-api.acdh-dev.oeaw.ac.at/api/ner-sample/?format=json&limit=100&ner_ent_type__contains=&ner_source__title=MRP&offset=7300\n",
      "https://nerdpool-api.acdh-dev.oeaw.ac.at/api/ner-sample/?format=json&limit=100&ner_ent_type__contains=&ner_source__title=MRP&offset=7400\n",
      "https://nerdpool-api.acdh-dev.oeaw.ac.at/api/ner-sample/?format=json&limit=100&ner_ent_type__contains=&ner_source__title=MRP&offset=7500\n",
      "https://nerdpool-api.acdh-dev.oeaw.ac.at/api/ner-sample/?format=json&limit=100&ner_ent_type__contains=&ner_source__title=MRP&offset=7600\n",
      "https://nerdpool-api.acdh-dev.oeaw.ac.at/api/ner-sample/?format=json&limit=100&ner_ent_type__contains=&ner_source__title=MRP&offset=7700\n",
      "https://nerdpool-api.acdh-dev.oeaw.ac.at/api/ner-sample/?format=json&limit=100&ner_ent_type__contains=&ner_source__title=MRP&offset=7800\n",
      "https://nerdpool-api.acdh-dev.oeaw.ac.at/api/ner-sample/?format=json&limit=100&ner_ent_type__contains=&ner_source__title=MRP&offset=7900\n",
      "https://nerdpool-api.acdh-dev.oeaw.ac.at/api/ner-sample/?format=json&limit=100&ner_ent_type__contains=&ner_source__title=MRP&offset=8000\n",
      "https://nerdpool-api.acdh-dev.oeaw.ac.at/api/ner-sample/?format=json&limit=100&ner_ent_type__contains=&ner_source__title=MRP&offset=8100\n",
      "https://nerdpool-api.acdh-dev.oeaw.ac.at/api/ner-sample/?format=json&limit=100&ner_ent_type__contains=&ner_source__title=MRP&offset=8200\n",
      "https://nerdpool-api.acdh-dev.oeaw.ac.at/api/ner-sample/?format=json&limit=100&ner_ent_type__contains=&ner_source__title=MRP&offset=8300\n",
      "https://nerdpool-api.acdh-dev.oeaw.ac.at/api/ner-sample/?format=json&limit=100&ner_ent_type__contains=&ner_source__title=MRP&offset=8400\n",
      "https://nerdpool-api.acdh-dev.oeaw.ac.at/api/ner-sample/?format=json&limit=100&ner_ent_type__contains=&ner_source__title=MRP&offset=8500\n",
      "https://nerdpool-api.acdh-dev.oeaw.ac.at/api/ner-sample/?format=json&limit=100&ner_ent_type__contains=&ner_source__title=MRP&offset=8600\n",
      "https://nerdpool-api.acdh-dev.oeaw.ac.at/api/ner-sample/?format=json&limit=100&ner_ent_type__contains=&ner_source__title=MRP&offset=8700\n",
      "https://nerdpool-api.acdh-dev.oeaw.ac.at/api/ner-sample/?format=json&limit=100&ner_ent_type__contains=&ner_source__title=MRP&offset=8800\n",
      "https://nerdpool-api.acdh-dev.oeaw.ac.at/api/ner-sample/?format=json&limit=100&ner_ent_type__contains=&ner_source__title=MRP&offset=8900\n",
      "https://nerdpool-api.acdh-dev.oeaw.ac.at/api/ner-sample/?format=json&limit=100&ner_ent_type__contains=&ner_source__title=MRP&offset=9000\n",
      "https://nerdpool-api.acdh-dev.oeaw.ac.at/api/ner-sample/?format=json&limit=100&ner_ent_type__contains=&ner_source__title=MRP&offset=9100\n",
      "https://nerdpool-api.acdh-dev.oeaw.ac.at/api/ner-sample/?format=json&limit=100&ner_ent_type__contains=&ner_source__title=MRP&offset=9200\n",
      "https://nerdpool-api.acdh-dev.oeaw.ac.at/api/ner-sample/?format=json&limit=100&ner_ent_type__contains=&ner_source__title=MRP&offset=9300\n",
      "https://nerdpool-api.acdh-dev.oeaw.ac.at/api/ner-sample/?format=json&limit=100&ner_ent_type__contains=&ner_source__title=MRP&offset=9400\n",
      "https://nerdpool-api.acdh-dev.oeaw.ac.at/api/ner-sample/?format=json&limit=100&ner_ent_type__contains=&ner_source__title=MRP&offset=9500\n",
      "https://nerdpool-api.acdh-dev.oeaw.ac.at/api/ner-sample/?format=json&limit=100&ner_ent_type__contains=&ner_source__title=MRP&offset=9600\n",
      "https://nerdpool-api.acdh-dev.oeaw.ac.at/api/ner-sample/?format=json&limit=100&ner_ent_type__contains=&ner_source__title=MRP&offset=9700\n",
      "https://nerdpool-api.acdh-dev.oeaw.ac.at/api/ner-sample/?format=json&limit=100&ner_ent_type__contains=&ner_source__title=MRP&offset=9800\n",
      "https://nerdpool-api.acdh-dev.oeaw.ac.at/api/ner-sample/?format=json&limit=100&ner_ent_type__contains=&ner_source__title=MRP&offset=9900\n",
      "https://nerdpool-api.acdh-dev.oeaw.ac.at/api/ner-sample/?format=json&limit=100&ner_ent_type__contains=&ner_source__title=MRP&offset=10000\n",
      "https://nerdpool-api.acdh-dev.oeaw.ac.at/api/ner-sample/?format=json&limit=100&ner_ent_type__contains=&ner_source__title=MRP&offset=10100\n",
      "https://nerdpool-api.acdh-dev.oeaw.ac.at/api/ner-sample/?format=json&limit=100&ner_ent_type__contains=&ner_source__title=MRP&offset=10200\n",
      "https://nerdpool-api.acdh-dev.oeaw.ac.at/api/ner-sample/?format=json&limit=100&ner_ent_type__contains=&ner_source__title=MRP&offset=10300\n"
     ]
    },
    {
     "data": {
      "text/plain": [
       "'out.jsonl'"
      ]
     },
     "execution_count": 3,
     "metadata": {},
     "output_type": "execute_result"
    }
   ],
   "source": [
    "client.dump_to_jsonl(\"https://nerdpool-api.acdh-dev.oeaw.ac.at/api/ner-sample/?format=json&ner_ent_type__contains=&ner_source__title=MRP\")"
   ]
  },
  {
   "cell_type": "code",
   "execution_count": 4,
   "id": "polish-savings",
   "metadata": {},
   "outputs": [],
   "source": [
    "import warnings\n",
    "import spacy\n",
    "from spacy.tokens import DocBin"
   ]
  },
  {
   "cell_type": "code",
   "execution_count": 5,
   "id": "focal-penguin",
   "metadata": {},
   "outputs": [
    {
     "name": "stdout",
     "output_type": "stream",
     "text": [
      "fails: 2; train: 8255; eval: 2064\n"
     ]
    }
   ],
   "source": [
    "nlp = spacy.blank('de')\n",
    "db_train = DocBin()\n",
    "db_eval = DocBin()\n",
    "fails = 0\n",
    "train_eval = 0\n",
    "train_sample_count = 0\n",
    "eval_sample_count = 0\n",
    "with open('out.jsonl') as f:\n",
    "    for line in f:\n",
    "        if train_eval == 5:\n",
    "            train_eval = 0\n",
    "        try:\n",
    "            data = json.loads(line.strip())\n",
    "        except:\n",
    "            continue\n",
    "        text = data['text']\n",
    "        entities = data['entities']\n",
    "        doc = nlp.make_doc(text)\n",
    "        ents = []\n",
    "        train_eval += 1\n",
    "        for start, end, label in entities:\n",
    "            span = doc.char_span(start, end, label=label)\n",
    "            if span is None:\n",
    "                # msg = f\"Skipping entity [{start}, {end}, {label}] in the following text because the character span '{doc.text[start:end]}' does not align with token boundaries:\\n\\n{repr(text)}\\n\"\n",
    "                # warnings.warn(msg)\n",
    "                fails += 1\n",
    "            else:\n",
    "                ents.append(span)\n",
    "        try:\n",
    "            doc.ents = ents\n",
    "            if train_eval != 4:\n",
    "                db_train.add(doc)\n",
    "                train_sample_count += 1\n",
    "            else:\n",
    "                db_eval.add(doc)\n",
    "                eval_sample_count += 1\n",
    "        except ValueError:\n",
    "            continue\n",
    "    db_train.to_disk('train.spacy')\n",
    "    db_eval.to_disk('dev.spacy')\n",
    "print(\n",
    "    f\"fails: {fails}; train: {train_sample_count}; eval: {eval_sample_count}\"\n",
    ")\n",
    "        "
   ]
  },
  {
   "cell_type": "code",
   "execution_count": 6,
   "id": "divided-revision",
   "metadata": {},
   "outputs": [
    {
     "name": "stdout",
     "output_type": "stream",
     "text": [
      "\u001b[38;5;4mℹ Using CPU\u001b[0m\n",
      "\u001b[1m\n",
      "=========================== Initializing pipeline ===========================\u001b[0m\n",
      "[2021-07-14 09:46:43,976] [INFO] Set up nlp object from config\n",
      "[2021-07-14 09:46:43,984] [INFO] Pipeline: ['tok2vec', 'ner']\n",
      "[2021-07-14 09:46:43,987] [INFO] Created vocabulary\n",
      "[2021-07-14 09:46:43,987] [INFO] Finished initializing nlp object\n",
      "[2021-07-14 09:46:52,214] [INFO] Initialized pipeline components: ['tok2vec', 'ner']\n",
      "\u001b[38;5;2m✔ Initialized pipeline\u001b[0m\n",
      "\u001b[1m\n",
      "============================= Training pipeline =============================\u001b[0m\n",
      "\u001b[38;5;4mℹ Pipeline: ['tok2vec', 'ner']\u001b[0m\n",
      "\u001b[38;5;4mℹ Initial learn rate: 0.001\u001b[0m\n",
      "E    #       LOSS TOK2VEC  LOSS NER  ENTS_F  ENTS_P  ENTS_R  SCORE \n",
      "---  ------  ------------  --------  ------  ------  ------  ------\n",
      "  0       0          0.00     36.28    0.00    0.00    0.00    0.00\n",
      "  0     200         62.31   1706.05   45.33   71.59   33.16    0.45\n",
      "  0     400         70.50    946.91   67.80   79.29   59.22    0.68\n",
      "  0     600        179.24    952.93   74.31   83.40   67.01    0.74\n",
      "  0     800        305.70   1116.96   76.07   85.74   68.36    0.76\n",
      "  0    1000        219.90   1224.54   78.99   86.19   72.89    0.79\n",
      "  0    1200        176.08   1333.46   82.46   87.41   78.04    0.82\n",
      "  0    1400        193.52   1346.32   82.67   88.16   77.83    0.83\n",
      "  1    1600        264.94   1383.62   84.17   88.29   80.41    0.84\n",
      "  1    1800        306.04   1420.69   85.10   86.75   83.52    0.85\n",
      "  2    2000        327.95   1726.52   86.47   89.92   83.28    0.86\n",
      "  2    2200        394.29   1450.45   85.94   86.97   84.94    0.86\n",
      "  3    2400        592.36   1703.77   87.12   89.07   85.25    0.87\n",
      "  3    2600        476.56   1431.73   87.57   90.69   84.67    0.88\n",
      "  4    2800        579.33   1194.36   87.76   91.05   84.70    0.88\n",
      "  5    3000        424.24   1107.43   87.62   91.18   84.33    0.88\n",
      "  5    3200        482.09   1001.08   86.93   88.47   85.45    0.87\n",
      "  6    3400        481.81    828.80   87.67   90.02   85.45    0.88\n",
      "  7    3600        440.23    785.29   87.52   89.21   85.89    0.88\n",
      "  7    3800        519.91    769.75   87.59   90.06   85.25    0.88\n",
      "  8    4000        566.24    676.24   86.86   87.96   85.79    0.87\n",
      "  9    4200        520.54    654.66   87.10   88.93   85.35    0.87\n",
      "  9    4400        569.93    635.88   86.83   87.41   86.26    0.87\n",
      "\u001b[38;5;2m✔ Saved pipeline to output directory\u001b[0m\n",
      "output/model-last\n"
     ]
    }
   ],
   "source": [
    "! python -m spacy train config.cfg --output ./output --paths.train ./train.spacy --paths.dev ./dev.spacy"
   ]
  },
  {
   "cell_type": "code",
   "execution_count": null,
   "id": "attractive-vaccine",
   "metadata": {},
   "outputs": [],
   "source": []
  }
 ],
 "metadata": {
  "kernelspec": {
   "display_name": "Django Shell-Plus",
   "language": "python",
   "name": "django_extensions"
  },
  "language_info": {
   "codemirror_mode": {
    "name": "ipython",
    "version": 3
   },
   "file_extension": ".py",
   "mimetype": "text/x-python",
   "name": "python",
   "nbconvert_exporter": "python",
   "pygments_lexer": "ipython3",
   "version": "3.8.10"
  }
 },
 "nbformat": 4,
 "nbformat_minor": 5
}
